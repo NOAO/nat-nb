{
 "cells": [
  {
   "cell_type": "markdown",
   "metadata": {},
   "source": [
    "[![alt text](moon-snail.jpg \"Moon Snail, Natica catena\" )](http://www.aphotomarine.com/snail_euspira_catena_necklace_shell.html)\n",
    " \n",
    "## Goals\n",
    "This notebook is intended to be loaded (using %run) into other notebooks in the same directory. It provides common configuration variables to the notebooks that load it. It is used across _Astro Data Archive_ \"how-to\" juypter notebooks."
   ]
  },
  {
   "cell_type": "code",
   "execution_count": 1,
   "metadata": {},
   "outputs": [],
   "source": [
    "import time\n",
    "def tic():\n",
    "    tic.start = time.perf_counter()\n",
    "\n",
    "def toc():\n",
    "    elapsed_seconds = time.perf_counter() - tic.start\n",
    "    return elapsed_seconds # fractional\n",
    "\n",
    "about_archive = 'https://astroarchive.noao.edu/about/'\n",
    "# Example use of tic-toc\n",
    "# tic()\n",
    "# time.sleep(3)\n",
    "# print(toc())"
   ]
  },
  {
   "cell_type": "code",
   "execution_count": 2,
   "metadata": {},
   "outputs": [],
   "source": [
    "# Public config\n",
    "natroot = 'https://astroarchive.noao.edu'\n",
    "#!natroot = 'http://localhost:8020/'\n",
    "testUserEmail = 'demo_user@mail.edu'\n",
    "testUserPassword = '!Password'\n",
    "testProposal = 'test-prop'\n",
    "publicFileId = '0000298c7e0b3ce96b3fff51515a6100'\n",
    "#proprietaryFileId = '5cb627467b1e4c28a18cd491cf09272e' # from S&F\n",
    "proprietaryFileId = 'a96e55509a4cf89ebcc3126bef2e6aa7' # from S&F\n",
    "proprietaryArch   = 'c4d_140725_004418_ooi_g_v1.fits.fz' # from S&F\n",
    "m5url=f'{natroot}/api/retrieve/84289f753e3155b55955b7d4ffeb7c4b/?hdus=35' # for zoom"
   ]
  },
  {
   "cell_type": "code",
   "execution_count": 3,
   "metadata": {
    "scrolled": true
   },
   "outputs": [
    {
     "name": "stdout",
     "output_type": "stream",
     "text": [
      "Using server on https://astroarchive.noao.edu\n",
      "About NSF's OIR Lab Astro Data Archive: https://astroarchive.noao.edu/about/\n"
     ]
    }
   ],
   "source": [
    "print(f\"Using server on {natroot}\")\n",
    "print(f\"About NSF's OIR Lab Astro Data Archive: {about_archive}\")"
   ]
  },
  {
   "cell_type": "code",
   "execution_count": 4,
   "metadata": {},
   "outputs": [],
   "source": [
    "assert natroot == 'https://astroarchive.noao.edu', 'Notebook does NOT point to PRODUCTION'"
   ]
  }
 ],
 "metadata": {
  "kernelspec": {
   "display_name": "Python 3",
   "language": "python",
   "name": "python3"
  },
  "language_info": {
   "codemirror_mode": {
    "name": "ipython",
    "version": 3
   },
   "file_extension": ".py",
   "mimetype": "text/x-python",
   "name": "python",
   "nbconvert_exporter": "python",
   "pygments_lexer": "ipython3",
   "version": "3.8.5"
  }
 },
 "nbformat": 4,
 "nbformat_minor": 2
}
